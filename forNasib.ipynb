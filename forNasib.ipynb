{
  "nbformat": 4,
  "nbformat_minor": 0,
  "metadata": {
    "colab": {
      "name": "forNasib.ipynb",
      "provenance": [],
      "authorship_tag": "ABX9TyOsOO1+Mnc6l/sjdkMaqWJw",
      "include_colab_link": true
    },
    "kernelspec": {
      "name": "python3",
      "display_name": "Python 3"
    }
  },
  "cells": [
    {
      "cell_type": "markdown",
      "metadata": {
        "id": "view-in-github",
        "colab_type": "text"
      },
      "source": [
        "<a href=\"https://colab.research.google.com/github/rahmanziaur/DistBCondo-SDN-and-Blockchain/blob/main/forNasib.ipynb\" target=\"_parent\"><img src=\"https://colab.research.google.com/assets/colab-badge.svg\" alt=\"Open In Colab\"/></a>"
      ]
    },
    {
      "cell_type": "code",
      "metadata": {
        "colab": {
          "base_uri": "https://localhost:8080/",
          "height": 375
        },
        "id": "K3eC7Igt_yPW",
        "outputId": "2945032a-1aea-45ce-9910-33e1ca7e56b9"
      },
      "source": [
        "# Create Random array-list and write into csv file and then plot a linear\r\n",
        "# regression model with the histogram, line and bar chart after reading\r\n",
        "# that file data. Showing the data in a table data frame that meets\r\n",
        "# certain conditions.\r\n",
        "import numpy as np # import numpy for random and mean median\r\n",
        "import csv # to store data in and read from\r\n",
        "import matplotlib.pyplot as plt # for plotting scatter, line, histrigram and bar\r\n",
        "from scipy import stats # for stat module to do linear regression\r\n",
        "import pandas as pd # to visualize data into a table dataframe\r\n",
        "A = np.random.uniform(low=1, high=15, size=(20,)) # fixed ranges random numbers\r\n",
        "A = A.astype(int) #caste type into inetger\r\n",
        "B = np.random.uniform(low=85, high=100, size=(20,))\r\n",
        "B = B.astype(int)\r\n",
        "x=[] # declare blank list\r\n",
        "y=[]\r\n",
        "with open('zia.csv','w') as f: #open file object in write mode\r\n",
        " writer = csv.writer(f,delimiter='\\t') #write into csv file with delimiter \\t\r\n",
        " writer.writerows(zip(A,B)) #aggregate two list in one\r\n",
        "f.close\r\n",
        "with open('zia.csv','r') as f: #open file in read mode\r\n",
        " plots = csv.reader(f, delimiter='\\t') #reading data based on delimiter \\t\r\n",
        " for row in plots:\r\n",
        "  x.append(int(row[0])) # can be float as well\r\n",
        "  y.append(int(row[1])) # appending into the list prevously declared\r\n",
        "#calculating Mean, Median using numpy\r\n",
        "print(\"For x: Mean \"+str(np.mean(x))+\" Median \"+str(np.median(x))+\" SD \"+str(np.std(x)))\r\n",
        "list_i=[] # declare blank list\r\n",
        "list_j=[]\r\n",
        "for i,j in zip(x, y):\r\n",
        " if i > 10 and j < 95:\r\n",
        "  list_i.append(i)\r\n",
        "  list_j.append(j) # appending into the list prevously declared\r\n",
        "#variable declaration for linear regressation\r\n",
        "slope, intercept, r, p, std_err = stats.linregress(x,y)\r\n",
        "def myfunc(x):\r\n",
        " return slope * x + intercept # returning y = mx + c\r\n",
        "mymodel = list(map(myfunc,x)) # preparing model for linear regression\r\n",
        "plt.subplot(1,4,1) # subpltting 1 row 4 column 1st plot\r\n",
        "plt.scatter(x,y)\r\n",
        "plt.plot(x,mymodel) # linear regression\r\n",
        "plt.subplot(1,4,2) # subpltting 1 row 4 column 2nd plot\r\n",
        "#plotting histrgram using mean standard deviation and no of bars\r\n",
        "plt.hist(np.random.normal(np.mean(x), np.std(x), len(x)), 10)\r\n",
        "plt.subplot(1,4,3) # subpltting 1 row 4 column 3rd plot with customized faces\r\n",
        "plt.plot(x,y,marker='D', color='red', ls='-.', linewidth = '.5', markersize=8, markerfacecolor='blue',\r\n",
        " markeredgewidth=.1, markeredgecolor='blue')\r\n",
        "plt.subplot(1,4,4) # subpltting 1 row 4 column 4th plot\r\n",
        "plt.bar(x,y) # plotting bar char for x and y data\r\n",
        "plt.savefig('zia.pdf') #save plot as pdf\r\n",
        "plt.show()\r\n",
        "# preparinf dictionary using pandas with list and index\r\n",
        "pd_dict = {\"X\": pd.Series(list_i, index=np.arange(1,1+len(list_i))), \"Y\":pd.Series(list_j, index=np.arange(1,1+len(list_j)))}\r\n",
        "# defining DataFrame on Pandas\r\n",
        "table = pd.DataFrame(pd_dict)\r\n",
        "table # printing table"
      ],
      "execution_count": 1,
      "outputs": [
        {
          "output_type": "stream",
          "text": [
            "For x: Mean 7.4 Median 6.5 SD 3.9673668849754744\n"
          ],
          "name": "stdout"
        },
        {
          "output_type": "display_data",
          "data": {
            "image/png": "[encoded data removed]",
            "text/plain": [
              "<Figure size 432x288 with 4 Axes>"
            ]
          },
          "metadata": {
            "tags": [],
            "needs_background": "light"
          }
        },
        {
          "output_type": "execute_result",
          "data": {
            "text/html": [
              "<div>\n",
              "<style scoped>\n",
              "    .dataframe tbody tr th:only-of-type {\n",
              "        vertical-align: middle;\n",
              "    }\n",
              "\n",
              "    .dataframe tbody tr th {\n",
              "        vertical-align: top;\n",
              "    }\n",
              "\n",
              "    .dataframe thead th {\n",
              "        text-align: right;\n",
              "    }\n",
              "</style>\n",
              "<table border=\"1\" class=\"dataframe\">\n",
              "  <thead>\n",
              "    <tr style=\"text-align: right;\">\n",
              "      <th></th>\n",
              "      <th>X</th>\n",
              "      <th>Y</th>\n",
              "    </tr>\n",
              "  </thead>\n",
              "  <tbody>\n",
              "    <tr>\n",
              "      <th>1</th>\n",
              "      <td>14</td>\n",
              "      <td>86</td>\n",
              "    </tr>\n",
              "    <tr>\n",
              "      <th>2</th>\n",
              "      <td>14</td>\n",
              "      <td>91</td>\n",
              "    </tr>\n",
              "  </tbody>\n",
              "</table>\n",
              "</div>"
            ],
            "text/plain": [
              "    X   Y\n",
              "1  14  86\n",
              "2  14  91"
            ]
          },
          "metadata": {
            "tags": []
          },
          "execution_count": 1
        }
      ]
    }
  ]
}